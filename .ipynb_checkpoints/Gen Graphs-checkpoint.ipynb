{
 "cells": [
  {
   "cell_type": "code",
   "execution_count": 3,
   "metadata": {},
   "outputs": [
    {
     "data": {
      "text/plain": [
       "'2.8.4'"
      ]
     },
     "execution_count": 3,
     "metadata": {},
     "output_type": "execute_result"
    }
   ],
   "source": [
    "import matplotlib.pyplot as plt\n",
    "import networkx as nx\n",
    "import numpy as np\n",
    "import random\n",
    "\n",
    "nx.__version__"
   ]
  },
  {
   "cell_type": "markdown",
   "metadata": {},
   "source": [
    "# this code is used to generate graphs\\"
   ]
  },
  {
   "cell_type": "markdown",
   "metadata": {},
   "source": [
    "# Grid \n",
    "### train test"
   ]
  },
  {
   "cell_type": "code",
   "execution_count": null,
   "metadata": {},
   "outputs": [],
   "source": [
    "def build_grid(grid_start,grid_end):\n",
    "    adjs = []\n",
    "    n_nodes = []\n",
    "    for i in range(grid_start, grid_end):\n",
    "        for j in range(grid_start, grid_end):\n",
    "            G = nx.grid_2d_graph(i, j)\n",
    "            adj = nx.adjacency_matrix(G).toarray()\n",
    "            adjs.append(adj)\n",
    "            n_nodes.append(len(G.nodes()))\n",
    "    n_max = (grid_end - 1) * (grid_end - 1)\n",
    "    #print(len(adjs),n_max,np.max(n_nodes),np.min(n_nodes))\n",
    "    return np.array(adjs, dtype=object)"
   ]
  },
  {
   "cell_type": "code",
   "execution_count": null,
   "metadata": {},
   "outputs": [],
   "source": []
  },
  {
   "cell_type": "code",
   "execution_count": null,
   "metadata": {},
   "outputs": [],
   "source": []
  },
  {
   "cell_type": "code",
   "execution_count": null,
   "metadata": {},
   "outputs": [],
   "source": [
    "\n",
    "grid_start = 10\n",
    "grid_end = 20\n",
    "adjs = build_grid(grid_start,grid_end)\n",
    "random.seed(42)\n",
    "graphs_len = len(adjs)\n",
    "idxs = list(range(graphs_len))\n",
    "random.shuffle(idxs)\n",
    "test_idxs = idxs[int(0.8 * graphs_len):]\n",
    "val_idxs = idxs[0:int(0.2*graphs_len)]\n",
    "train_idxs = idxs[int(0.2*graphs_len):int(0.8*graphs_len)]\n",
    "\n",
    "test = adjs[test_idxs]\n",
    "train = adjs[train_idxs]\n",
    "val = adjs[val_idxs]\n",
    "\n",
    "np.save(\"dataset/grid/grid_train_val_test.npy\",np.array([train,val,test], dtype=object))"
   ]
  },
  {
   "cell_type": "code",
   "execution_count": null,
   "metadata": {},
   "outputs": [],
   "source": []
  },
  {
   "cell_type": "markdown",
   "metadata": {},
   "source": [
    "## Grid large"
   ]
  },
  {
   "cell_type": "code",
   "execution_count": 2,
   "metadata": {},
   "outputs": [],
   "source": [
    "def build_grid(grid_start,grid_end,ink):\n",
    "    adjs = []\n",
    "    n_nodes = []\n",
    "    for i in range(grid_start, grid_end,ink):\n",
    "        for j in range(grid_start, grid_end,ink):\n",
    "            G = nx.grid_2d_graph(i, j)\n",
    "            adj = nx.adjacency_matrix(G).toarray()\n",
    "            adjs.append(adj)\n",
    "            n_nodes.append(len(G.nodes()))\n",
    "    n_max = (grid_end - 1) * (grid_end - 1)\n",
    "    #print(len(adjs),n_max,np.max(n_nodes),np.min(n_nodes))\n",
    "    adjs = np.array(adjs, dtype=object)\n",
    "    np.random.shuffle(adjs)\n",
    "    return adjs"
   ]
  },
  {
   "cell_type": "code",
   "execution_count": 3,
   "metadata": {},
   "outputs": [
    {
     "name": "stdout",
     "output_type": "stream",
     "text": [
      "grid start 55 grid end 65\n"
     ]
    },
    {
     "name": "stderr",
     "output_type": "stream",
     "text": [
      "/tmp/ipykernel_192584/1680752995.py:7: FutureWarning: adjacency_matrix will return a scipy.sparse array instead of a matrix in Networkx 3.0.\n",
      "  adj = nx.adjacency_matrix(G).toarray()\n",
      "/tmp/ipykernel_192584/1680752995.py:7: FutureWarning: adjacency_matrix will return a scipy.sparse array instead of a matrix in Networkx 3.0.\n",
      "  adj = nx.adjacency_matrix(G).toarray()\n"
     ]
    },
    {
     "name": "stdout",
     "output_type": "stream",
     "text": [
      "70\n"
     ]
    }
   ],
   "source": [
    "grid_start = 10\n",
    "grid_end = 20\n",
    "m = 15\n",
    "for increm in [1.1,1.25,1.5,2.0,4.0]:#,8.0]:\n",
    "\n",
    "    new_m = int(m*increm)\n",
    "    nodes_min = new_m-5\n",
    "    nodes_max = new_m+5\n",
    "    print(\"grid start\",nodes_min,\"grid end\",nodes_max)\n",
    "    \n",
    "\n",
    "    adjs = build_grid(nodes_min,nodes_max,1)\n",
    "    adjs = adjs[0:100]\n",
    "    print(len(adjs))\n",
    "    np.save(\"dataset/grid/grid_large_\"+str(increm)+\".npy\",adjs)"
   ]
  },
  {
   "cell_type": "code",
   "execution_count": 12,
   "metadata": {},
   "outputs": [
    {
     "name": "stdout",
     "output_type": "stream",
     "text": [
      "grid\n",
      "1.1 valore da aggiungre \t 41\n",
      "1.25 valore da aggiungre \t 129\n",
      "1.5 valore da aggiungre \t 329\n",
      "2.0 valore da aggiungre \t 825\n",
      "4.0 valore da aggiungre \t 3825\n"
     ]
    }
   ],
   "source": [
    "m = 15\n",
    "print(\"grid\")\n",
    "for increm in [1.1,1.25,1.5,2.0,4.0]:#,8.0]:\n",
    "    \n",
    "    new_m = int(m*increm)\n",
    "    nodes_min = new_m-5\n",
    "    nodes_max = new_m+5\n",
    "    print(increm,\"valore da aggiungre \\t\",nodes_max**2-400)"
   ]
  },
  {
   "cell_type": "code",
   "execution_count": null,
   "metadata": {},
   "outputs": [],
   "source": []
  },
  {
   "cell_type": "code",
   "execution_count": 2,
   "metadata": {},
   "outputs": [
    {
     "data": {
      "image/png": "[encoded data removed]",
      "text/plain": [
       "<Figure size 640x480 with 1 Axes>"
      ]
     },
     "metadata": {},
     "output_type": "display_data"
    }
   ],
   "source": [
    "for increm in [1.1,1.25,1.5,2.0,4.0]:#,8.0]:\n",
    "    a = np.load(\"dataset/grid/grid_large_/grid_large_\"+str(increm)+\".npy\",allow_pickle=True)\n",
    "    x = [len(i) for i in a]\n",
    "    plt.hist(x,alpha=0.5,label=str(increm))\n",
    "    \n",
    "plt.show()"
   ]
  },
  {
   "cell_type": "code",
   "execution_count": null,
   "metadata": {
    "scrolled": false
   },
   "outputs": [],
   "source": []
  },
  {
   "cell_type": "markdown",
   "metadata": {},
   "source": [
    "# Planar\n",
    "## train test"
   ]
  },
  {
   "cell_type": "code",
   "execution_count": 27,
   "metadata": {},
   "outputs": [],
   "source": [
    "from scipy.spatial import Delaunay\n",
    "def build_planar(n_graphs,n_nodes_in):\n",
    "    adjs = []\n",
    "    n_nodes = []\n",
    "    for i in range(n_graphs):\n",
    "        # Generate planar graphs using Delauney traingulation\n",
    "        points = np.random.rand(n_nodes_in,2)\n",
    "        tri = Delaunay(points)\n",
    "        adj = np.zeros([n_nodes_in,n_nodes_in])\n",
    "\n",
    "        for t in tri.simplices:\n",
    "            adj[t[0], t[1]] = 1\n",
    "            adj[t[1], t[2]] = 1\n",
    "            adj[t[2], t[0]] = 1\n",
    "            adj[t[1], t[0]] = 1\n",
    "            adj[t[2], t[1]] = 1\n",
    "            adj[t[0], t[2]] = 1\n",
    "\n",
    "        G = nx.from_numpy_matrix(adj)\n",
    "\n",
    "        adjs.append(adj)\n",
    "        n_nodes.append(len(G.nodes()))\n",
    "    return np.array(adjs)"
   ]
  },
  {
   "cell_type": "code",
   "execution_count": 14,
   "metadata": {},
   "outputs": [],
   "source": [
    "n_graphs = 200\n",
    "n_nodes_in = 64\n",
    "\n",
    "adjs = build_planar(n_graphs,n_nodes_in)\n",
    "\n",
    "random.seed(42)\n",
    "graphs_len = len(adjs)\n",
    "idxs = list(range(graphs_len))\n",
    "random.shuffle(idxs)\n",
    "test_idxs = idxs[int(0.8 * graphs_len):]\n",
    "val_idxs = idxs[0:int(0.2*graphs_len)]\n",
    "train_idxs = idxs[int(0.2*graphs_len):int(0.8*graphs_len)]\n",
    "\n",
    "test = adjs[test_idxs]\n",
    "train = adjs[train_idxs]\n",
    "val = adjs[val_idxs]\n",
    "\n",
    "#np.save(\"dataset/planar/planar_train_val_test.npy\",np.array([train,val,test], dtype=object))"
   ]
  },
  {
   "cell_type": "markdown",
   "metadata": {},
   "source": [
    "## planar_large"
   ]
  },
  {
   "cell_type": "code",
   "execution_count": 28,
   "metadata": {},
   "outputs": [
    {
     "name": "stdout",
     "output_type": "stream",
     "text": [
      "64 X 1.1 = 70\n",
      "64 X 1.25 = 80\n",
      "64 X 1.5 = 96\n",
      "64 X 2.0 = 128\n",
      "64 X 4.0 = 256\n",
      "64 X 8.0 = 512\n"
     ]
    }
   ],
   "source": [
    "n_graphs = 200\n",
    "orig_size = 64\n",
    "tmp = []\n",
    "for increm in [1.1,1.25,1.5,2.0,4.0,8.0]:\n",
    "    n_nodes = int(orig_size*increm)\n",
    "    print(orig_size,\"X\",increm,\"=\",n_nodes)\n",
    "    adjs = build_planar(n_graphs,n_nodes)\n",
    "    tmp.append(adjs)\n",
    "    #np.save(\"dataset/planar/planar_large_\"+str(increm)+\".npy\",adjs)"
   ]
  },
  {
   "cell_type": "code",
   "execution_count": 29,
   "metadata": {},
   "outputs": [
    {
     "name": "stdout",
     "output_type": "stream",
     "text": [
      "planar\n",
      "1.1 valore da aggiungre \t 6\n",
      "1.25 valore da aggiungre \t 16\n",
      "1.5 valore da aggiungre \t 32\n",
      "2.0 valore da aggiungre \t 64\n",
      "4.0 valore da aggiungre \t 192\n",
      "8.0 valore da aggiungre \t 448\n"
     ]
    }
   ],
   "source": [
    "orig_size = 64\n",
    "print(\"planar\")\n",
    "for increm in [1.1,1.25,1.5,2.0,4.0,8.0]:\n",
    "    print(increm,\"valore da aggiungre \\t\",(int(increm*orig_size))-orig_size)\n",
    "    "
   ]
  },
  {
   "cell_type": "code",
   "execution_count": 31,
   "metadata": {},
   "outputs": [],
   "source": [
    "edge = []\n",
    "for i in tmp:\n",
    "    t = []\n",
    "    for g in i:\n",
    "        gg = nx.from_numpy_array(g)\n",
    "        t.append(len(gg.edges()))\n",
    "    edge.append(t)"
   ]
  },
  {
   "cell_type": "code",
   "execution_count": 33,
   "metadata": {},
   "outputs": [
    {
     "data": {
      "image/png": "[encoded data removed]",
      "text/plain": [
       "<Figure size 640x480 with 1 Axes>"
      ]
     },
     "metadata": {},
     "output_type": "display_data"
    }
   ],
   "source": [
    "for i in edge:\n",
    "    plt.hist(i)"
   ]
  },
  {
   "cell_type": "code",
   "execution_count": null,
   "metadata": {},
   "outputs": [],
   "source": []
  },
  {
   "cell_type": "markdown",
   "metadata": {},
   "source": [
    "# SBM"
   ]
  },
  {
   "cell_type": "code",
   "execution_count": null,
   "metadata": {},
   "outputs": [],
   "source": []
  },
  {
   "cell_type": "code",
   "execution_count": 19,
   "metadata": {},
   "outputs": [],
   "source": [
    "def build_sbm(n_graphs,max_comm_size,min_comm_size,min_n_com,max_n_com):\n",
    "    adjs = []\n",
    "    for seed in range(n_graphs):\n",
    "        n_comunities = np.random.randint(min_n_com, max_n_com)\n",
    "        comunity_sizes = np.random.randint(min_comm_size, max_comm_size, size=n_comunities)\n",
    "        probs = np.ones([n_comunities, n_comunities]) * 0.005\n",
    "        probs[np.arange(n_comunities), np.arange(n_comunities)] = 0.3\n",
    "\n",
    "        G = nx.stochastic_block_model(comunity_sizes, probs, seed=seed)\n",
    "        adj = nx.adjacency_matrix(G).A\n",
    "        adjs.append(adj)\n",
    "    return np.array(adjs, dtype=object)"
   ]
  },
  {
   "cell_type": "code",
   "execution_count": 20,
   "metadata": {},
   "outputs": [
    {
     "name": "stderr",
     "output_type": "stream",
     "text": [
      "/tmp/ipykernel_192584/523042947.py:10: FutureWarning: adjacency_matrix will return a scipy.sparse array instead of a matrix in Networkx 3.0.\n",
      "  adj = nx.adjacency_matrix(G).A\n"
     ]
    }
   ],
   "source": [
    "# splits\n",
    "n_graphs =  200\n",
    "max_comm_size = 40\n",
    "min_comm_size = 20\n",
    "min_n_com = 2\n",
    "max_n_com = 5\n",
    "\n",
    "adjs = build_sbm(n_graphs,max_comm_size,min_comm_size,min_n_com,max_n_com)\n",
    "\n",
    "random.seed(42)\n",
    "graphs_len = len(adjs)\n",
    "idxs = list(range(graphs_len))\n",
    "random.shuffle(idxs)\n",
    "test_idxs = idxs[int(0.8 * graphs_len):]\n",
    "val_idxs = idxs[0:int(0.2*graphs_len)]\n",
    "train_idxs = idxs[int(0.2*graphs_len):int(0.8*graphs_len)]\n",
    "\n",
    "test = adjs[test_idxs]\n",
    "train = adjs[train_idxs]\n",
    "val = adjs[val_idxs]\n",
    "\n",
    "np.save(\"dataset/sbm/sbm_train_val_test.npy\",np.array([train,val,test], dtype=object))"
   ]
  },
  {
   "cell_type": "markdown",
   "metadata": {},
   "source": [
    "# SBM large"
   ]
  },
  {
   "cell_type": "code",
   "execution_count": 24,
   "metadata": {},
   "outputs": [
    {
     "data": {
      "text/plain": [
       "(40, 160)"
      ]
     },
     "execution_count": 24,
     "metadata": {},
     "output_type": "execute_result"
    }
   ],
   "source": [
    "minm = 2*20\n",
    "maxi = 40*4\n",
    "minm,maxi"
   ]
  },
  {
   "cell_type": "code",
   "execution_count": null,
   "metadata": {},
   "outputs": [],
   "source": []
  },
  {
   "cell_type": "code",
   "execution_count": null,
   "metadata": {},
   "outputs": [],
   "source": []
  },
  {
   "cell_type": "code",
   "execution_count": 43,
   "metadata": {},
   "outputs": [
    {
     "name": "stdout",
     "output_type": "stream",
     "text": [
      "MIN 22 MAX 44 \tnb comm: 2 - 5\n"
     ]
    },
    {
     "name": "stderr",
     "output_type": "stream",
     "text": [
      "/tmp/ipykernel_192584/523042947.py:10: FutureWarning: adjacency_matrix will return a scipy.sparse array instead of a matrix in Networkx 3.0.\n",
      "  adj = nx.adjacency_matrix(G).A\n"
     ]
    },
    {
     "name": "stdout",
     "output_type": "stream",
     "text": [
      "MIN 25 MAX 50 \tnb comm: 2 - 5\n",
      "MIN 30 MAX 60 \tnb comm: 2 - 5\n",
      "MIN 40 MAX 80 \tnb comm: 2 - 5\n",
      "MIN 80 MAX 160 \tnb comm: 2 - 5\n",
      "MIN 160 MAX 320 \tnb comm: 2 - 5\n"
     ]
    }
   ],
   "source": [
    "n_graphs = 200\n",
    "orig_size_max = 40\n",
    "orig_size_min = 20\n",
    "min_n_com = 2\n",
    "max_n_com = 5\n",
    "\n",
    "delta = 10\n",
    "m = 30\n",
    "for increm in [1.1,1.25,1.5,2.0,4.0,8.0]:\n",
    "    \n",
    "    nodes_min = int(orig_size_min*increm)\n",
    "    nodes_max = int(orig_size_max*increm)\n",
    "    print(\"MIN\",nodes_min,\"MAX\",nodes_max,\"\\tnb comm:\",min_n_com,\"-\",max_n_com)\n",
    "    \n",
    "    adjs = build_sbm(n_graphs,nodes_max,nodes_min,min_n_com,max_n_com)\n",
    "    np.save(\"dataset/sbm/sbm_large_\"+str(increm)+\".npy\",adjs)"
   ]
  },
  {
   "cell_type": "code",
   "execution_count": 48,
   "metadata": {},
   "outputs": [
    {
     "data": {
      "text/plain": [
       "400"
      ]
     },
     "execution_count": 48,
     "metadata": {},
     "output_type": "execute_result"
    }
   ],
   "source": [
    "20*20"
   ]
  },
  {
   "cell_type": "code",
   "execution_count": 57,
   "metadata": {},
   "outputs": [
    {
     "name": "stdout",
     "output_type": "stream",
     "text": [
      "1.1 np.random.randint( 4 , 16 )\n",
      "1.25 np.random.randint( 10 , 40 )\n",
      "1.5 np.random.randint( 20 , 80 )\n",
      "2.0 np.random.randint( 40 , 160 )\n",
      "4.0 np.random.randint( 120 , 480 )\n",
      "8.0 np.random.randint( 280 , 1120 )\n"
     ]
    }
   ],
   "source": [
    "(40, 160)\n",
    "\n",
    "orig_size_max = 40\n",
    "orig_size_min = 20\n",
    "for increm in [1.1,1.25,1.5,2.0,4.0,8.0]:\n",
    "    nodes_min = int(orig_size_min*increm)\n",
    "    nodes_max = int(orig_size_max*increm)\n",
    "    \n",
    "    print(increm ,\"np.random.randint(\",(nodes_min*2)-40,\",\",(nodes_max*4)-160,\")\")"
   ]
  },
  {
   "cell_type": "code",
   "execution_count": 44,
   "metadata": {},
   "outputs": [],
   "source": [
    "res = []\n",
    "for increm in [1.1,1.5,2.0,4.0,8.0]:\n",
    "    A = np.load(\"dataset/sbm/sbm_large_\"+str(increm)+\".npy\",allow_pickle=True)\n",
    "    #graphs = [nx.from_numpy_array(x) for x in A]\n",
    "    dist = [len(x) for x in A]\n",
    "    res.append(dist)"
   ]
  },
  {
   "cell_type": "code",
   "execution_count": 45,
   "metadata": {},
   "outputs": [
    {
     "data": {
      "text/plain": [
       "<matplotlib.legend.Legend at 0x7f9fa4bafd90>"
      ]
     },
     "execution_count": 45,
     "metadata": {},
     "output_type": "execute_result"
    },
    {
     "data": {
      "image/png": "[encoded data removed]",
      "text/plain": [
       "<Figure size 1000x300 with 1 Axes>"
      ]
     },
     "metadata": {},
     "output_type": "display_data"
    }
   ],
   "source": [
    "plt.figure(figsize=(10,3))\n",
    "# no 1.1 e 1.25\n",
    "incremenst = [1.1,1.5,2.0,4.0,8.0]\n",
    "c = 0\n",
    "for i in res:\n",
    "    plt.hist(i,density=True,alpha=0.8,label=str(incremenst[c]))\n",
    "    c =  c + 1\n",
    "plt.legend()"
   ]
  },
  {
   "cell_type": "code",
   "execution_count": null,
   "metadata": {},
   "outputs": [],
   "source": []
  },
  {
   "cell_type": "code",
   "execution_count": null,
   "metadata": {},
   "outputs": [],
   "source": []
  },
  {
   "cell_type": "code",
   "execution_count": null,
   "metadata": {},
   "outputs": [],
   "source": []
  },
  {
   "cell_type": "markdown",
   "metadata": {},
   "source": [
    "# Ego"
   ]
  },
  {
   "cell_type": "markdown",
   "metadata": {},
   "source": [
    "## Train test"
   ]
  },
  {
   "cell_type": "markdown",
   "metadata": {},
   "source": [
    "adjs = np.load(\"dataset/ego_small.npy\")\n",
    "\n",
    "random.seed(42)\n",
    "graphs_len = len(adjs)\n",
    "idxs = list(range(graphs_len))\n",
    "random.shuffle(idxs)\n",
    "test_idxs = idxs[int(0.8 * graphs_len):]\n",
    "val_idxs = idxs[0:int(0.2*graphs_len)]\n",
    "train_idxs = idxs[int(0.2*graphs_len):int(0.8*graphs_len)]\n",
    "\n",
    "test = adjs[test_idxs]\n",
    "train = adjs[train_idxs]\n",
    "val = adjs[val_idxs]\n",
    "\n",
    "np.save(\"dataset/ego/ego_train_val_test.npy\",np.array([train,val,test]))"
   ]
  },
  {
   "cell_type": "code",
   "execution_count": 46,
   "metadata": {},
   "outputs": [],
   "source": [
    "adjs = np.load(\"dataset/ego/ego_train_val_test.npy\",allow_pickle=True)"
   ]
  },
  {
   "cell_type": "code",
   "execution_count": 48,
   "metadata": {},
   "outputs": [
    {
     "data": {
      "text/plain": [
       "(71, 23, 24)"
      ]
     },
     "execution_count": 48,
     "metadata": {},
     "output_type": "execute_result"
    }
   ],
   "source": [
    "len(adjs[0]),len(adjs[1]),len(adjs[2])"
   ]
  },
  {
   "cell_type": "code",
   "execution_count": 45,
   "metadata": {},
   "outputs": [
    {
     "name": "stderr",
     "output_type": "stream",
     "text": [
      "/tmp/ipykernel_21127/3940044162.py:6: FutureWarning: adjacency_matrix will return a scipy.sparse array instead of a matrix in Networkx 3.0.\n",
      "  new_adjs.append(nx.adjacency_matrix(g).A)\n"
     ]
    }
   ],
   "source": [
    "new_adjs = []\n",
    "for a in adjs:\n",
    "    g = nx.from_numpy_array(a)\n",
    "    g.remove_edges_from(nx.selfloop_edges(g))\n",
    "    \n",
    "    new_adjs.append(nx.adjacency_matrix(g).A)\n",
    "    \n",
    "new_adjs = np.array(new_adjs,dtype=object)\n",
    "random.seed(42)\n",
    "graphs_len = len(new_adjs)\n",
    "idxs = list(range(graphs_len))\n",
    "random.shuffle(idxs)\n",
    "test_idxs = idxs[int(0.8 * graphs_len):]\n",
    "val_idxs = idxs[0:int(0.2*graphs_len)]\n",
    "train_idxs = idxs[int(0.2*graphs_len):int(0.8*graphs_len)]\n",
    "\n",
    "test = new_adjs[test_idxs]\n",
    "train = new_adjs[train_idxs]\n",
    "val = new_adjs[val_idxs]\n",
    "\n",
    "np.save(\"dataset/ego/ego_train_val_test.npy\",np.array([train,val,test],dtype=object))"
   ]
  },
  {
   "cell_type": "code",
   "execution_count": null,
   "metadata": {},
   "outputs": [],
   "source": []
  },
  {
   "cell_type": "markdown",
   "metadata": {},
   "source": [
    "## ego_large"
   ]
  },
  {
   "cell_type": "code",
   "execution_count": null,
   "metadata": {},
   "outputs": [],
   "source": []
  },
  {
   "cell_type": "code",
   "execution_count": 18,
   "metadata": {},
   "outputs": [],
   "source": [
    "adjs = np.load(\"dataset/ego/ego_small_test_DASISTEMARE.npy\",allow_pickle=True)"
   ]
  },
  {
   "cell_type": "code",
   "execution_count": 19,
   "metadata": {},
   "outputs": [
    {
     "name": "stderr",
     "output_type": "stream",
     "text": [
      "/tmp/ipykernel_21127/1083500879.py:10: FutureWarning: adjacency_matrix will return a scipy.sparse array instead of a matrix in Networkx 3.0.\n",
      "  perc15.append(nx.adjacency_matrix(g).A)\n",
      "/tmp/ipykernel_21127/1083500879.py:16: FutureWarning: adjacency_matrix will return a scipy.sparse array instead of a matrix in Networkx 3.0.\n",
      "  perc80.append(nx.adjacency_matrix(g).A)\n",
      "/tmp/ipykernel_21127/1083500879.py:12: FutureWarning: adjacency_matrix will return a scipy.sparse array instead of a matrix in Networkx 3.0.\n",
      "  perc20.append(nx.adjacency_matrix(g).A)\n",
      "/tmp/ipykernel_21127/1083500879.py:14: FutureWarning: adjacency_matrix will return a scipy.sparse array instead of a matrix in Networkx 3.0.\n",
      "  perc40.append(nx.adjacency_matrix(g).A)\n"
     ]
    },
    {
     "data": {
      "text/plain": [
       "(227, 134, 198, 139)"
      ]
     },
     "execution_count": 19,
     "metadata": {},
     "output_type": "execute_result"
    }
   ],
   "source": [
    "perc15 = []\n",
    "perc20 = []\n",
    "perc40 = []\n",
    "perc80 = []\n",
    "for i in adjs:\n",
    "    g = nx.from_numpy_array(i)\n",
    "    g.remove_edges_from(nx.selfloop_edges(g))\n",
    "    \n",
    "    if len(i)<int(17*1.5):\n",
    "        perc15.append(nx.adjacency_matrix(g).A)\n",
    "    elif len(i)<int(17*2):\n",
    "        perc20.append(nx.adjacency_matrix(g).A)\n",
    "    elif len(i)<int(17*4):\n",
    "        perc40.append(nx.adjacency_matrix(g).A)\n",
    "    else:\n",
    "        perc80.append(nx.adjacency_matrix(g).A)\n",
    "\n",
    "len(perc15),len(perc20),len(perc40),len(perc80),"
   ]
  },
  {
   "cell_type": "code",
   "execution_count": null,
   "metadata": {},
   "outputs": [],
   "source": []
  },
  {
   "cell_type": "code",
   "execution_count": 20,
   "metadata": {},
   "outputs": [],
   "source": [
    "np.save(\"dataset/ego/ego_large_1.5.npy\",np.array(perc15,dtype=object))\n",
    "np.save(\"dataset/ego/ego_large_2.0.npy\",np.array(perc20,dtype=object))\n",
    "np.save(\"dataset/ego/ego_large_4.0.npy\",np.array(perc40,dtype=object))\n",
    "np.save(\"dataset/ego/ego_large_8.0.npy\",np.array(perc80,dtype=object))"
   ]
  },
  {
   "cell_type": "code",
   "execution_count": null,
   "metadata": {},
   "outputs": [],
   "source": []
  },
  {
   "cell_type": "code",
   "execution_count": 43,
   "metadata": {},
   "outputs": [
    {
     "name": "stdout",
     "output_type": "stream",
     "text": [
      "1.1 devi aggiungere 1\n",
      "1.25 devi aggiungere 4\n",
      "1.5 devi aggiungere 8\n",
      "2 devi aggiungere 17\n",
      "4 devi aggiungere 51\n",
      "8 devi aggiungere 119\n"
     ]
    }
   ],
   "source": [
    "for i in [1.1,1.25,1.5,2,4,8]:\n",
    "    print(i,\"devi aggiungere\",int((17*i)-17))"
   ]
  },
  {
   "cell_type": "code",
   "execution_count": null,
   "metadata": {},
   "outputs": [],
   "source": []
  },
  {
   "cell_type": "code",
   "execution_count": null,
   "metadata": {},
   "outputs": [],
   "source": []
  },
  {
   "cell_type": "markdown",
   "metadata": {},
   "source": [
    "# community"
   ]
  },
  {
   "cell_type": "code",
   "execution_count": 86,
   "metadata": {},
   "outputs": [],
   "source": [
    "def build_sbm(n_graphs,max_comm_size,min_comm_size):\n",
    "    adjs = []\n",
    "    for seed in range(n_graphs):\n",
    "        n_comunities = 2\n",
    "        t = np.random.randint(min_comm_size, max_comm_size, size=1)[0]\n",
    "        comunity_sizes = [t,t]\n",
    "        \n",
    "        probs = np.ones([n_comunities, n_comunities]) * 0.005\n",
    "        probs[np.arange(n_comunities), np.arange(n_comunities)] = 0.3\n",
    "\n",
    "        G = nx.stochastic_block_model(comunity_sizes, probs, seed=seed)\n",
    "        adj = nx.adjacency_matrix(G).A\n",
    "        \n",
    "        adjs.append(adj)\n",
    "        \n",
    "    return np.array(adjs, dtype=object)"
   ]
  },
  {
   "cell_type": "code",
   "execution_count": 96,
   "metadata": {},
   "outputs": [
    {
     "name": "stderr",
     "output_type": "stream",
     "text": [
      "/tmp/ipykernel_21127/338802406.py:12: FutureWarning: adjacency_matrix will return a scipy.sparse array instead of a matrix in Networkx 3.0.\n",
      "  adj = nx.adjacency_matrix(G).A\n"
     ]
    }
   ],
   "source": [
    "\n",
    "random.seed(42)\n",
    "\n",
    "adjs = build_sbm(500,80,30)\n",
    "graphs_len = len(adjs)\n",
    "idxs = list(range(graphs_len))\n",
    "random.shuffle(idxs)\n",
    "test_idxs = idxs[int(0.8 * graphs_len):]\n",
    "val_idxs = idxs[0:int(0.2*graphs_len)]\n",
    "train_idxs = idxs[int(0.2*graphs_len):int(0.8*graphs_len)]\n",
    "\n",
    "test = adjs[test_idxs]\n",
    "train = adjs[train_idxs]\n",
    "val = adjs[val_idxs]\n",
    "\n",
    "\n",
    "np.save(\"dataset/comm/comm_train_val_test.npy\",np.array([train,val,test], dtype=object))"
   ]
  },
  {
   "cell_type": "markdown",
   "metadata": {},
   "source": [
    "## larger"
   ]
  },
  {
   "cell_type": "code",
   "execution_count": 116,
   "metadata": {},
   "outputs": [
    {
     "name": "stderr",
     "output_type": "stream",
     "text": [
      "/tmp/ipykernel_21127/338802406.py:12: FutureWarning: adjacency_matrix will return a scipy.sparse array instead of a matrix in Networkx 3.0.\n",
      "  adj = nx.adjacency_matrix(G).A\n"
     ]
    },
    {
     "name": "stdout",
     "output_type": "stream",
     "text": [
      "1.1\n",
      "1.25\n",
      "1.5\n",
      "2.0\n",
      "4.0\n",
      "8.0\n"
     ]
    }
   ],
   "source": [
    "n_graphs = 200\n",
    "\n",
    "for increm in [1.1,1.25,1.5,2.0,4.0,8.0]:\n",
    "    \n",
    "    nodes_min = int(30*increm)\n",
    "    nodes_max = int(80*increm)\n",
    "    \n",
    "    adjs = build_sbm(n_graphs,nodes_max,nodes_min)\n",
    "    np.save(\"dataset/comm/comm_sbm_large_\"+str(increm)+\".npy\",adjs)\n",
    "    print(increm)"
   ]
  },
  {
   "cell_type": "code",
   "execution_count": 128,
   "metadata": {},
   "outputs": [
    {
     "name": "stdout",
     "output_type": "stream",
     "text": [
      "1.1 np.random.randint( 36 , 96 )\n",
      "1.25 np.random.randint( 44 , 120 )\n",
      "1.5 np.random.randint( 60 , 160 )\n",
      "2.0 np.random.randint( 90 , 240 )\n",
      "4.0 np.random.randint( 210 , 560 )\n",
      "8.0 np.random.randint( 450 , 1200 )\n"
     ]
    }
   ],
   "source": [
    "orig_size_max = 80\n",
    "orig_size_min = 30\n",
    "for increm in [1.1,1.25,1.5,2.0,4.0,8.0]:\n",
    "    nodes_min = int(orig_size_min*increm)\n",
    "    nodes_max = int(orig_size_max*increm)\n",
    "    \n",
    "    print(increm ,\"np.random.randint(\",(nodes_min*2)-30,\",\",(nodes_max*2)-80,\")\")"
   ]
  },
  {
   "cell_type": "code",
   "execution_count": 126,
   "metadata": {},
   "outputs": [],
   "source": [
    "t = []\n",
    "for increm in [1.1,1.25,1.5,2.0,4.0,8.0]:\n",
    "    path = \"dataset/comm/comm_sbm_large_\"+str(increm)+\".npy\"\n",
    "    A = np.load(path,allow_pickle=True)\n",
    "    dist = [len(x) for x in A]\n",
    "    t.append(dist)"
   ]
  },
  {
   "cell_type": "code",
   "execution_count": 127,
   "metadata": {},
   "outputs": [
    {
     "data": {
      "image/png": "[encoded data removed]",
      "text/plain": [
       "<Figure size 640x480 with 1 Axes>"
      ]
     },
     "metadata": {},
     "output_type": "display_data"
    }
   ],
   "source": [
    "\n",
    "for i in t:\n",
    "    plt.hist(i)"
   ]
  },
  {
   "cell_type": "code",
   "execution_count": null,
   "metadata": {},
   "outputs": [],
   "source": []
  }
 ],
 "metadata": {
  "kernelspec": {
   "display_name": "Python 3 (ipykernel)",
   "language": "python",
   "name": "python3"
  },
  "language_info": {
   "codemirror_mode": {
    "name": "ipython",
    "version": 3
   },
   "file_extension": ".py",
   "mimetype": "text/x-python",
   "name": "python",
   "nbconvert_exporter": "python",
   "pygments_lexer": "ipython3",
   "version": "3.11.4"
  }
 },
 "nbformat": 4,
 "nbformat_minor": 2
}

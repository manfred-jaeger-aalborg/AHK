{
 "cells": [
  {
   "cell_type": "code",
   "execution_count": 1,
   "metadata": {},
   "outputs": [
    {
     "data": {
      "text/plain": [
       "'2.5.1'"
      ]
     },
     "execution_count": 1,
     "metadata": {},
     "output_type": "execute_result"
    }
   ],
   "source": [
    "import matplotlib.pyplot as plt\n",
    "import networkx as nx\n",
    "import numpy as np\n",
    "import random\n",
    "\n",
    "nx.__version__"
   ]
  },
  {
   "cell_type": "markdown",
   "metadata": {},
   "source": [
    "# this code is used to generate graphs\\"
   ]
  },
  {
   "cell_type": "markdown",
   "metadata": {},
   "source": [
    "# Grid \n",
    "### train test"
   ]
  },
  {
   "cell_type": "code",
   "execution_count": null,
   "metadata": {},
   "outputs": [],
   "source": [
    "def build_grid(grid_start,grid_end):\n",
    "    adjs = []\n",
    "    n_nodes = []\n",
    "    for i in range(grid_start, grid_end):\n",
    "        for j in range(grid_start, grid_end):\n",
    "            G = nx.grid_2d_graph(i, j)\n",
    "            adj = nx.adjacency_matrix(G).toarray()\n",
    "            adjs.append(adj)\n",
    "            n_nodes.append(len(G.nodes()))\n",
    "    n_max = (grid_end - 1) * (grid_end - 1)\n",
    "    print(len(adjs),n_max,np.max(n_nodes),np.min(n_nodes))\n",
    "    return np.array(adjs)"
   ]
  },
  {
   "cell_type": "code",
   "execution_count": null,
   "metadata": {
    "collapsed": true
   },
   "outputs": [],
   "source": []
  },
  {
   "cell_type": "code",
   "execution_count": null,
   "metadata": {},
   "outputs": [],
   "source": []
  },
  {
   "cell_type": "code",
   "execution_count": null,
   "metadata": {},
   "outputs": [],
   "source": [
    "\n",
    "grid_start = 10\n",
    "grid_end = 20\n",
    "adjs = build_grid(grid_start,grid_end)\n",
    "random.seed(42)\n",
    "graphs_len = len(adjs)\n",
    "idxs = list(range(graphs_len))\n",
    "random.shuffle(idxs)\n",
    "test_idxs = idxs[int(0.8 * graphs_len):]\n",
    "val_idxs = idxs[0:int(0.2*graphs_len)]\n",
    "train_idxs = idxs[int(0.2*graphs_len):int(0.8*graphs_len)]\n",
    "\n",
    "test = adjs[test_idxs]\n",
    "train = adjs[train_idxs]\n",
    "val = adjs[val_idxs]\n",
    "\n",
    "np.save(\"dataset/grid/grid_train_val_test.npy\",np.array([train,val,test]))\n"
   ]
  },
  {
   "cell_type": "code",
   "execution_count": null,
   "metadata": {},
   "outputs": [],
   "source": []
  },
  {
   "cell_type": "raw",
   "metadata": {},
   "source": []
  },
  {
   "cell_type": "code",
   "execution_count": null,
   "metadata": {
    "collapsed": true
   },
   "outputs": [],
   "source": []
  },
  {
   "cell_type": "markdown",
   "metadata": {},
   "source": [
    "## Grid large"
   ]
  },
  {
   "cell_type": "code",
   "execution_count": null,
   "metadata": {},
   "outputs": [],
   "source": [
    "grid_start = 22\n",
    "grid_end = 25\n",
    "adjs = build_grid(grid_start,grid_end)\n",
    "len(adjs)"
   ]
  },
  {
   "cell_type": "code",
   "execution_count": null,
   "metadata": {},
   "outputs": [],
   "source": []
  },
  {
   "cell_type": "markdown",
   "metadata": {},
   "source": [
    "# Planar\n",
    "## train test"
   ]
  },
  {
   "cell_type": "code",
   "execution_count": null,
   "metadata": {
    "collapsed": true
   },
   "outputs": [],
   "source": []
  },
  {
   "cell_type": "code",
   "execution_count": null,
   "metadata": {},
   "outputs": [],
   "source": [
    "from scipy.spatial import Delaunay\n",
    "def build_planar(n_graphs,n_nodes_in):\n",
    "    adjs = []\n",
    "    n_nodes = []\n",
    "    for i in range(n_graphs):\n",
    "        # Generate planar graphs using Delauney traingulation\n",
    "        points = np.random.rand(n_nodes_in,2)\n",
    "        tri = Delaunay(points)\n",
    "        adj = np.zeros([n_nodes_in,n_nodes_in])\n",
    "\n",
    "        for t in tri.simplices:\n",
    "            adj[t[0], t[1]] = 1\n",
    "            adj[t[1], t[2]] = 1\n",
    "            adj[t[2], t[0]] = 1\n",
    "            adj[t[1], t[0]] = 1\n",
    "            adj[t[2], t[1]] = 1\n",
    "            adj[t[0], t[2]] = 1\n",
    "\n",
    "        G = nx.from_numpy_matrix(adj)\n",
    "\n",
    "        adjs.append(adj)\n",
    "        n_nodes.append(len(G.nodes()))\n",
    "    return np.array(adjs)"
   ]
  },
  {
   "cell_type": "code",
   "execution_count": null,
   "metadata": {},
   "outputs": [],
   "source": [
    "n_graphs = 200\n",
    "n_nodes_in = 64\n",
    "\n",
    "adjs = build_planar(n_graphs,n_nodes_in)\n",
    "\n",
    "random.seed(42)\n",
    "graphs_len = len(adjs)\n",
    "idxs = list(range(graphs_len))\n",
    "random.shuffle(idxs)\n",
    "test_idxs = idxs[int(0.8 * graphs_len):]\n",
    "val_idxs = idxs[0:int(0.2*graphs_len)]\n",
    "train_idxs = idxs[int(0.2*graphs_len):int(0.8*graphs_len)]\n",
    "\n",
    "test = adjs[test_idxs]\n",
    "train = adjs[train_idxs]\n",
    "val = adjs[val_idxs]\n",
    "\n",
    "np.save(\"dataset/planar/planar_train_val_test.npy\",np.array([train,val,test]))\n"
   ]
  },
  {
   "cell_type": "code",
   "execution_count": null,
   "metadata": {},
   "outputs": [],
   "source": []
  },
  {
   "cell_type": "markdown",
   "metadata": {},
   "source": [
    "# Ego"
   ]
  },
  {
   "cell_type": "markdown",
   "metadata": {},
   "source": [
    "## Train test"
   ]
  },
  {
   "cell_type": "code",
   "execution_count": null,
   "metadata": {},
   "outputs": [],
   "source": [
    "adjs = np.load(\"dataset/ego_small.npy\")\n",
    "\n",
    "random.seed(42)\n",
    "graphs_len = len(adjs)\n",
    "idxs = list(range(graphs_len))\n",
    "random.shuffle(idxs)\n",
    "test_idxs = idxs[int(0.8 * graphs_len):]\n",
    "val_idxs = idxs[0:int(0.2*graphs_len)]\n",
    "train_idxs = idxs[int(0.2*graphs_len):int(0.8*graphs_len)]\n",
    "\n",
    "test = adjs[test_idxs]\n",
    "train = adjs[train_idxs]\n",
    "val = adjs[val_idxs]\n",
    "\n",
    "np.save(\"dataset/ego/ego_train_val_test.npy\",np.array([train,val,test]))"
   ]
  },
  {
   "cell_type": "code",
   "execution_count": null,
   "metadata": {},
   "outputs": [],
   "source": []
  },
  {
   "cell_type": "markdown",
   "metadata": {},
   "source": [
    "# SBM"
   ]
  },
  {
   "cell_type": "code",
   "execution_count": null,
   "metadata": {
    "collapsed": true
   },
   "outputs": [],
   "source": []
  },
  {
   "cell_type": "code",
   "execution_count": 6,
   "metadata": {},
   "outputs": [],
   "source": [
    "\n",
    "def build_sbm(n_graphs,max_comm_size,min_comm_size,min_n_com,max_n_com):\n",
    "    adjs = []\n",
    "    for seed in range(n_graphs):\n",
    "        n_comunities = np.random.randint(min_n_com, max_n_com)\n",
    "        comunity_sizes = np.random.randint(min_comm_size, max_comm_size, size=n_comunities)\n",
    "        probs = np.ones([n_comunities, n_comunities]) * 0.005\n",
    "        probs[np.arange(n_comunities), np.arange(n_comunities)] = 0.3\n",
    "\n",
    "        G = nx.stochastic_block_model(comunity_sizes, probs, seed=seed)\n",
    "        adj = nx.adjacency_matrix(G).A\n",
    "        adjs.append(adj)\n",
    "    return np.array(adjs)"
   ]
  },
  {
   "cell_type": "code",
   "execution_count": 7,
   "metadata": {},
   "outputs": [],
   "source": [
    "# splits\n",
    "n_graphs =  200\n",
    "max_comm_size = 40\n",
    "min_comm_size = 20\n",
    "min_n_com = 2\n",
    "max_n_com = 5\n",
    "\n",
    "\n",
    "adjs = build_sbm(n_graphs,max_comm_size,min_comm_size,min_n_com,max_n_com)\n",
    "\n",
    "\n",
    "random.seed(42)\n",
    "graphs_len = len(adjs)\n",
    "idxs = list(range(graphs_len))\n",
    "random.shuffle(idxs)\n",
    "test_idxs = idxs[int(0.8 * graphs_len):]\n",
    "val_idxs = idxs[0:int(0.2*graphs_len)]\n",
    "train_idxs = idxs[int(0.2*graphs_len):int(0.8*graphs_len)]\n",
    "\n",
    "test = adjs[test_idxs]\n",
    "train = adjs[train_idxs]\n",
    "val = adjs[val_idxs]\n",
    "\n",
    "np.save(\"dataset/sbm/sbm_train_val_test.npy\",np.array([train,val,test]))"
   ]
  },
  {
   "cell_type": "code",
   "execution_count": null,
   "metadata": {},
   "outputs": [],
   "source": []
  },
  {
   "cell_type": "code",
   "execution_count": null,
   "metadata": {
    "collapsed": true
   },
   "outputs": [],
   "source": []
  },
  {
   "cell_type": "code",
   "execution_count": null,
   "metadata": {
    "collapsed": true
   },
   "outputs": [],
   "source": []
  },
  {
   "cell_type": "code",
   "execution_count": null,
   "metadata": {
    "collapsed": true
   },
   "outputs": [],
   "source": []
  },
  {
   "cell_type": "code",
   "execution_count": null,
   "metadata": {
    "collapsed": true
   },
   "outputs": [],
   "source": []
  },
  {
   "cell_type": "code",
   "execution_count": null,
   "metadata": {
    "collapsed": true
   },
   "outputs": [],
   "source": []
  },
  {
   "cell_type": "code",
   "execution_count": null,
   "metadata": {
    "collapsed": true
   },
   "outputs": [],
   "source": []
  },
  {
   "cell_type": "code",
   "execution_count": null,
   "metadata": {
    "collapsed": true
   },
   "outputs": [],
   "source": []
  },
  {
   "cell_type": "code",
   "execution_count": null,
   "metadata": {
    "collapsed": true
   },
   "outputs": [],
   "source": []
  },
  {
   "cell_type": "code",
   "execution_count": null,
   "metadata": {},
   "outputs": [],
   "source": []
  },
  {
   "cell_type": "code",
   "execution_count": null,
   "metadata": {
    "collapsed": true
   },
   "outputs": [],
   "source": []
  },
  {
   "cell_type": "code",
   "execution_count": null,
   "metadata": {
    "collapsed": true
   },
   "outputs": [],
   "source": []
  },
  {
   "cell_type": "code",
   "execution_count": null,
   "metadata": {
    "collapsed": true
   },
   "outputs": [],
   "source": []
  },
  {
   "cell_type": "code",
   "execution_count": null,
   "metadata": {
    "collapsed": true
   },
   "outputs": [],
   "source": []
  }
 ],
 "metadata": {
  "kernelspec": {
   "display_name": "Python 3",
   "language": "python",
   "name": "python3"
  },
  "language_info": {
   "codemirror_mode": {
    "name": "ipython",
    "version": 3
   },
   "file_extension": ".py",
   "mimetype": "text/x-python",
   "name": "python",
   "nbconvert_exporter": "python",
   "pygments_lexer": "ipython3",
   "version": "3.6.2"
  }
 },
 "nbformat": 4,
 "nbformat_minor": 2
}

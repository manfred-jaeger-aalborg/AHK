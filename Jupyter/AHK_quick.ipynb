{
 "cells": [
  {
   "cell_type": "markdown",
   "id": "5107db15",
   "metadata": {},
   "source": [
    "# Quick start"
   ]
  },
  {
   "cell_type": "code",
   "execution_count": null,
   "id": "fb5ac916",
   "metadata": {},
   "outputs": [],
   "source": [
    "import numpy as np\n",
    "import networkx as nx\n",
    "import math\n",
    "import time\n",
    "import pickle as pkl\n",
    "import scipy\n",
    "\n",
    "import sys\n",
    "sys.path.insert(0, '/home/jaeger/B/Python')\n",
    "sys.path.insert(0, '/home/jaeger/B/Python/AHK')\n",
    "import utils\n",
    "\n",
    "from AHK.ahk import AHK_graphon\n",
    "from AHK.ahk_generators import data_colors,ahk_sbm,sample_data\n",
    "\n",
    "\n",
    "from matplotlib import pyplot as plt\n",
    "from matplotlib.colors import ListedColormap\n"
   ]
  },
  {
   "cell_type": "code",
   "execution_count": null,
   "id": "df992cad",
   "metadata": {},
   "outputs": [],
   "source": [
    "### Define an AHK model representing a stochastic block model:\n",
    "\n",
    "colprobs = np.array([0.2,0.3,0.5])\n",
    "edgeprobs = np.array([[0.6,0.1,0.1],[0.1,0.9,0.1],[0.1,0.1,0.8]])\n",
    "\n",
    "sbm=ahk_sbm(colprobs,edgeprobs,False)"
   ]
  },
  {
   "cell_type": "code",
   "execution_count": null,
   "id": "73a965ee",
   "metadata": {},
   "outputs": [],
   "source": [
    "### Sample random graphs from the model\n",
    "\n",
    "minnodes=8\n",
    "maxnodes=30\n",
    "samplesize=10\n",
    "\n",
    "sample=sample_data(sbm,samplesize,minnodes,maxnodes)\n",
    "\n",
    "### these sampled graphs are now instances of utils.World\n",
    "### They are converted to networkx graphs for plotting\n",
    "\n",
    "for g in sample:\n",
    "    gnx=g.to_nx()\n",
    "    nodecols=(list(gnx.nodes()[j]['features'] for j in gnx.nodes()))\n",
    "    nx.draw_networkx(gnx,node_color=nodecols,cmap='Set3')\n",
    "    plt.show()\n"
   ]
  },
  {
   "cell_type": "markdown",
   "id": "715c306c",
   "metadata": {},
   "source": [
    "## Learning"
   ]
  },
  {
   "cell_type": "code",
   "execution_count": null,
   "id": "3e025720",
   "metadata": {},
   "outputs": [],
   "source": [
    "# Selecting the training data. Must be a list of graphs in the utils.World type.\n",
    "\n",
    "traindata=sample\n",
    "\n",
    "# Initializing a model. This requires to define the histogram partitioning of the [0,1] interval\n",
    "# that the model uses\n",
    "# The first argument in the constructor is the signature of the graphs we are dealing with, i.e.\n",
    "# a specification of the attributes and relations\n",
    "\n",
    "\n",
    "binbounds=utils.uni_bins(3)\n",
    "model_learned=AHK_graphon(traindata[0].sig,binbounds)\n",
    "\n",
    "# Defining settings:\n",
    "settings={}\n",
    "settings['num_pi_b']=50\n",
    "settings['batchsize']=10\n",
    "settings['soft']=0.01\n",
    "settings['numepochs']=30\n",
    "settings['learn_bins']=False\n",
    "settings['early_stop']=5\n",
    "settings['with_trace']=False\n",
    "\n",
    "#Adam params:\n",
    "settings['ad_alpha']=0.01\n",
    "settings['ad_beta1']=0.99\n",
    "settings['ad_beta2']=0.9\n",
    "settings['ad_epsilon']=10e-8\n",
    "\n",
    "settings['method']=\"adam\"\n"
   ]
  },
  {
   "cell_type": "code",
   "execution_count": null,
   "id": "0dcb9c1d",
   "metadata": {},
   "outputs": [],
   "source": [
    "# Random initialization and learning\n",
    "model_learned.rand_init()\n",
    "best,loglik,trace=model_learned.learn(settings,traindata)"
   ]
  },
  {
   "cell_type": "code",
   "execution_count": null,
   "id": "79d0917d",
   "metadata": {},
   "outputs": [],
   "source": []
  }
 ],
 "metadata": {
  "kernelspec": {
   "display_name": "Python 3 (ipykernel)",
   "language": "python",
   "name": "python3"
  },
  "language_info": {
   "codemirror_mode": {
    "name": "ipython",
    "version": 3
   },
   "file_extension": ".py",
   "mimetype": "text/x-python",
   "name": "python",
   "nbconvert_exporter": "python",
   "pygments_lexer": "ipython3",
   "version": "3.8.10"
  }
 },
 "nbformat": 4,
 "nbformat_minor": 5
}

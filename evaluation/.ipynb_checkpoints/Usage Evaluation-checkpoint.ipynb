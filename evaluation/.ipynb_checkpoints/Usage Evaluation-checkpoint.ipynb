{
 "cells": [
  {
   "cell_type": "code",
   "execution_count": 61,
   "id": "99e021da",
   "metadata": {},
   "outputs": [
    {
     "name": "stdout",
     "output_type": "stream",
     "text": [
      "The autoreload extension is already loaded. To reload it, use:\n",
      "  %reload_ext autoreload\n"
     ]
    }
   ],
   "source": [
    "import networkx as nx\n",
    "import numpy as np\n",
    "import matplotlib.pyplot as plt\n",
    "%load_ext autoreload\n",
    "%autoreload 2"
   ]
  },
  {
   "cell_type": "markdown",
   "id": "0a9d1a8f",
   "metadata": {},
   "source": [
    "# import mmd and compute_metrics"
   ]
  },
  {
   "cell_type": "code",
   "execution_count": 149,
   "id": "f88208ea",
   "metadata": {},
   "outputs": [],
   "source": [
    "# code from GraphRNN\n",
    "from mmd import compute_mmd,gaussian_emd,gaussian\n",
    "from compute_metrics import get_orbit,get_clustering,get_degs\n",
    "import pickle as pkl\n",
    "\n",
    "\n",
    "def load_orig(name):\n",
    "    assert name in [\"ego\",\"grid\",\"sbm\",\"planar\"]\n",
    "\n",
    "    _,_, A_test = np.load(\"../dataset/\"+name+\"/\"+name+\"_train_val_test.npy\",allow_pickle=True)\n",
    "    test = []\n",
    "\n",
    "    for A in A_test:\n",
    "        test.append(nx.from_numpy_array(A))\n",
    "    return test\n",
    "\n",
    "def load_graphRNN(path):\n",
    "    with open(path, \"rb\") as f:\n",
    "        generated = pkl.load(f)\n",
    "    return generated\n",
    "\n",
    "def load_digress(path):\n",
    "    generated = np.load(path)\n",
    "    generated = [nx.from_numpy_array(generated[f\"arr_{id}\"]) for id in range(len(generated))][:1024]\n",
    "    \n",
    "    return generated"
   ]
  },
  {
   "cell_type": "code",
   "execution_count": 147,
   "id": "ade2815e",
   "metadata": {},
   "outputs": [],
   "source": []
  },
  {
   "cell_type": "code",
   "execution_count": 148,
   "id": "2e8196bc",
   "metadata": {},
   "outputs": [
    {
     "data": {
      "text/plain": [
       "40"
      ]
     },
     "execution_count": 148,
     "metadata": {},
     "output_type": "execute_result"
    }
   ],
   "source": []
  },
  {
   "cell_type": "markdown",
   "id": "64ba720e",
   "metadata": {},
   "source": [
    "# sbm"
   ]
  },
  {
   "cell_type": "code",
   "execution_count": 150,
   "id": "ac438df6",
   "metadata": {},
   "outputs": [],
   "source": [
    "orig = load_orig(\"sbm\")\n",
    "path = \"../../Generate_graphs/generated/graphrnn/sbm/GraphRNN_RNN_sbm_4_128_test_0.dat\"\n",
    "graphRNN = load_graphRNN(path)[0:40]\n",
    "path = \"../../Generate_graphs/generated/digress/sbm_0_fullprec_resume/generated_adjs.npz\"\n",
    "digress = load_digress(path)"
   ]
  },
  {
   "cell_type": "code",
   "execution_count": null,
   "id": "e63216b2",
   "metadata": {},
   "outputs": [],
   "source": []
  },
  {
   "cell_type": "code",
   "execution_count": 151,
   "id": "b729027f",
   "metadata": {},
   "outputs": [
    {
     "name": "stdout",
     "output_type": "stream",
     "text": [
      "graphRNN 0.08798704365038557\n",
      "digress  0.006636368074777188\n"
     ]
    }
   ],
   "source": [
    "s1 = get_orbit(orig)\n",
    "s2 = get_orbit(graphRNN)\n",
    "s3 = get_orbit(digress)\n",
    "print(\"graphRNN\",compute_mmd(s1, s2, kernel=gaussian_emd, is_parallel=False, sigma=1.0))\n",
    "print(\"digress \",compute_mmd(s1, s3, kernel=gaussian_emd, is_parallel=False, sigma=1.0))"
   ]
  },
  {
   "cell_type": "code",
   "execution_count": 153,
   "id": "f68b34b0",
   "metadata": {},
   "outputs": [
    {
     "name": "stdout",
     "output_type": "stream",
     "text": [
      "graphRNN 0.1981110955827674\n",
      "digress  0.0006015940986856538\n"
     ]
    }
   ],
   "source": [
    "s1 = get_clustering(orig)\n",
    "s2 = get_clustering(graphRNN)\n",
    "s3 = get_clustering(digress)\n",
    "print(\"graphRNN\",compute_mmd(s1, s2, kernel=gaussian, is_parallel=False, sigma=1.0))\n",
    "print(\"digress \",compute_mmd(s1, s3, kernel=gaussian, is_parallel=False, sigma=1.0))"
   ]
  },
  {
   "cell_type": "code",
   "execution_count": 154,
   "id": "9cdbd1d6",
   "metadata": {},
   "outputs": [
    {
     "name": "stdout",
     "output_type": "stream",
     "text": [
      "graphRNN 0.6022402553209347\n",
      "digress  0.13686845734844422\n"
     ]
    }
   ],
   "source": [
    "s1 = get_degs(orig)\n",
    "s2 = get_degs(graphRNN)\n",
    "s3 = get_degs(digress)\n",
    "print(\"graphRNN\",compute_mmd(s1, s2, kernel=gaussian_emd, is_parallel=False, sigma=1.0))\n",
    "print(\"digress \",compute_mmd(s1, s3, kernel=gaussian_emd, is_parallel=False, sigma=1.0))"
   ]
  },
  {
   "cell_type": "code",
   "execution_count": 158,
   "id": "717fd6a2",
   "metadata": {},
   "outputs": [],
   "source": [
    "def within_out_com_density(graphs):\n",
    "    within_com = []\n",
    "    out_com = []\n",
    "    c = 0 \n",
    "    for g_in_ori in graphs:\n",
    "        g_in = g_in_ori.copy()\n",
    "        for com in list(nx.community.greedy_modularity_communities(g_in)):\n",
    "            g = nx.subgraph(g_in,com)\n",
    "            d = nx.density(g)\n",
    "            within_com.append(d)        \n",
    "            g_in.remove_edges_from(g.edges)\n",
    "        c = c + 1\n",
    "        out_com.append(nx.density(g_in))\n",
    "     \n",
    "    print(np.mean(within_com),np.std(within_com))\n",
    "    print(np.mean(out_com),np.std(out_com))"
   ]
  },
  {
   "cell_type": "code",
   "execution_count": 159,
   "id": "cd368dbd",
   "metadata": {},
   "outputs": [
    {
     "name": "stdout",
     "output_type": "stream",
     "text": [
      "0.29945983046425534 0.04003314125346175\n",
      "0.00421408529289966 0.005614091319033995\n"
     ]
    }
   ],
   "source": [
    "within_out_com_density(orig)"
   ]
  },
  {
   "cell_type": "code",
   "execution_count": 160,
   "id": "c1834880",
   "metadata": {},
   "outputs": [
    {
     "name": "stdout",
     "output_type": "stream",
     "text": [
      "0.005341380222689842 0.04036204309229275\n",
      "0.0016599732262382865 0.0017760558911066463\n"
     ]
    }
   ],
   "source": [
    "within_out_com_density(graphRNN)"
   ]
  },
  {
   "cell_type": "code",
   "execution_count": 161,
   "id": "6690680f",
   "metadata": {},
   "outputs": [
    {
     "name": "stdout",
     "output_type": "stream",
     "text": [
      "0.3187625635630585 0.06231016105668801\n",
      "0.010786004785933483 0.014608959650385172\n"
     ]
    }
   ],
   "source": [
    "within_out_com_density(digress)"
   ]
  },
  {
   "cell_type": "code",
   "execution_count": null,
   "id": "523d8be7",
   "metadata": {},
   "outputs": [],
   "source": []
  },
  {
   "cell_type": "code",
   "execution_count": 139,
   "id": "aa6bdf74",
   "metadata": {},
   "outputs": [],
   "source": [
    "def modularity_len_comm(graphs):\n",
    "    mod = []\n",
    "    len_com = []\n",
    "    for g in graphs:\n",
    "        com = list(nx.community.greedy_modularity_communities(g))\n",
    "        mod.append(nx.community.modularity(g, com))\n",
    "        len_com.append(len(com))\n",
    "    return mod,len_com"
   ]
  },
  {
   "cell_type": "code",
   "execution_count": 162,
   "id": "f5d78406",
   "metadata": {},
   "outputs": [],
   "source": [
    "mod_ori, len_com_ori = modularity_len_comm(orig)\n",
    "mod_rnn, len_com_rnn = modularity_len_comm(graphRNN)\n",
    "mod_dig, len_com_dig = modularity_len_comm(digress)"
   ]
  },
  {
   "cell_type": "code",
   "execution_count": 164,
   "id": "90c3d79a",
   "metadata": {},
   "outputs": [
    {
     "data": {
      "image/png": "[encoded data removed]",
      "text/plain": [
       "<Figure size 1000x800 with 6 Axes>"
      ]
     },
     "metadata": {},
     "output_type": "display_data"
    }
   ],
   "source": [
    "plt.figure(figsize=(10,8))\n",
    "plt.subplot(231)\n",
    "plt.title(\"modularity orig\")\n",
    "plt.hist(mod_ori)\n",
    "plt.subplot(232)\n",
    "plt.title(\"modularity graphRNN\")\n",
    "plt.hist(mod_rnn)\n",
    "plt.subplot(233)\n",
    "plt.title(\"modularity digress\")\n",
    "plt.hist(mod_dig)\n",
    "plt.subplot(234)\n",
    "plt.title(\"NB comp con orig\")\n",
    "plt.hist(len_com_ori)\n",
    "plt.subplot(235)\n",
    "plt.title(\"NB comp con graphRNN\")\n",
    "plt.hist(len_com_rnn)\n",
    "plt.subplot(236)\n",
    "plt.title(\"NB comp con digress\")\n",
    "plt.hist(len_com_dig)\n",
    "plt.show()\n",
    "\n"
   ]
  },
  {
   "cell_type": "markdown",
   "id": "c8c598bb",
   "metadata": {},
   "source": [
    "# does the graph has triangles?"
   ]
  },
  {
   "cell_type": "code",
   "execution_count": null,
   "id": "73ee7397",
   "metadata": {},
   "outputs": [],
   "source": [
    "generated_graph = []\n",
    "MAX_nb_nodes = 20\n",
    "min_nb_nodes = 15\n",
    "\n",
    "for i in range(20):\n",
    "    n = np.random.choice(np.arange(min_nb_nodes,MAX_nb_nodes))\n",
    "    generated_graph.append(nx.barabasi_albert_graph(n,1))\n",
    "    generated_graph.append(nx.fast_gnp_random_graph(n,0.04))"
   ]
  },
  {
   "cell_type": "code",
   "execution_count": null,
   "id": "ee7717fb",
   "metadata": {},
   "outputs": [],
   "source": [
    "def has_tringles(graph):\n",
    "    count = sum(nx.cluster.triangles(graph).values())\n",
    "    \n",
    "    if count == 0:\n",
    "        return False\n",
    "    else:\n",
    "        return True\n",
    "    \n",
    "def chack_validity_triangles(graphs):\n",
    "    N = len(graphs)\n",
    "    c = 0\n",
    "    for graph in graphs:\n",
    "        if has_tringles(graph):\n",
    "            c = c + 1\n",
    "            \n",
    "    print(N,c)\n",
    "    print(N-c, \"valid graphs over\",N,\"graphs\")\n",
    "    \n",
    "    return (N,c)"
   ]
  },
  {
   "cell_type": "code",
   "execution_count": null,
   "id": "9ade3599",
   "metadata": {},
   "outputs": [],
   "source": [
    "chack_validity_triangles(generated_graph)"
   ]
  },
  {
   "cell_type": "code",
   "execution_count": null,
   "id": "69a98d03",
   "metadata": {},
   "outputs": [],
   "source": []
  }
 ],
 "metadata": {
  "kernelspec": {
   "display_name": "Python 3 (ipykernel)",
   "language": "python",
   "name": "python3"
  },
  "language_info": {
   "codemirror_mode": {
    "name": "ipython",
    "version": 3
   },
   "file_extension": ".py",
   "mimetype": "text/x-python",
   "name": "python",
   "nbconvert_exporter": "python",
   "pygments_lexer": "ipython3",
   "version": "3.11.4"
  }
 },
 "nbformat": 4,
 "nbformat_minor": 5
}
